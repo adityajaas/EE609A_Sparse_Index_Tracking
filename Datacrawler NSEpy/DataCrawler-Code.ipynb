{
 "cells": [
  {
   "cell_type": "code",
   "execution_count": 116,
   "metadata": {},
   "outputs": [],
   "source": [
    "import pandas as pd\n",
    "import numpy as np\n",
    "import nsepy\n",
    "from nsepy import get_history\n",
    "from datetime import date"
   ]
  },
  {
   "cell_type": "code",
   "execution_count": 113,
   "metadata": {},
   "outputs": [],
   "source": [
    "# Import stocks part of index\n",
    "nselist = pd.read_csv(\"nifty50list.csv\")\n",
    "symbols = nselist[\"Symbol\"]"
   ]
  },
  {
   "cell_type": "code",
   "execution_count": null,
   "metadata": {
    "scrolled": true
   },
   "outputs": [],
   "source": [
    "# Import stocks data\n",
    "for symbol in symbols:\n",
    "    data = get_history(symbol=symbol, \n",
    "                       start = date(2020,3,23), \n",
    "                       end = date(2021,3,22))\n",
    "    data.drop(['Prev Close', 'Last', 'VWAP', 'Volume', 'Turnover','Trades','Deliverable Volume','%Deliverble'], \n",
    "              axis = 1, \n",
    "              inplace = True) \n",
    "#     print(data.columns)\n",
    "    data.to_csv(\"Stocks data/\" + symbol + \".csv\")"
   ]
  },
  {
   "cell_type": "code",
   "execution_count": 150,
   "metadata": {},
   "outputs": [],
   "source": [
    "# Get index data\n",
    "data = get_history(symbol='NIFTY 50', \n",
    "                       start = date(2020,3,23), \n",
    "                       end = date(2021,3,22),\n",
    "                       index = True)\n",
    "data.to_csv(\"NIFTY50_23Mar20_22Mar21.csv\")"
   ]
  }
 ],
 "metadata": {
  "kernelspec": {
   "display_name": "Python 3",
   "language": "python",
   "name": "python3"
  },
  "language_info": {
   "codemirror_mode": {
    "name": "ipython",
    "version": 3
   },
   "file_extension": ".py",
   "mimetype": "text/x-python",
   "name": "python",
   "nbconvert_exporter": "python",
   "pygments_lexer": "ipython3",
   "version": "3.7.6"
  }
 },
 "nbformat": 4,
 "nbformat_minor": 4
}
